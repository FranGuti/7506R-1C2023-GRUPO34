{
  "nbformat": 4,
  "nbformat_minor": 0,
  "metadata": {
    "colab": {
      "provenance": [],
      "toc_visible": true,
      "include_colab_link": true
    },
    "kernelspec": {
      "name": "python3",
      "display_name": "Python 3"
    },
    "language_info": {
      "name": "python"
    }
  },
  "cells": [
    {
      "cell_type": "markdown",
      "metadata": {
        "id": "view-in-github",
        "colab_type": "text"
      },
      "source": [
        "<a href=\"https://colab.research.google.com/github/FranGuti/7506R-1C2023-GRUPO34/blob/main/7506R_TP1_GRUPO34_CHP1_ENTREGA.ipynb\" target=\"_parent\"><img src=\"https://colab.research.google.com/assets/colab-badge.svg\" alt=\"Open In Colab\"/></a>"
      ]
    },
    {
      "cell_type": "markdown",
      "source": [
        "# <center>Organizaci&oacute;n de Datos</center>\n",
        "#### <center>C&aacute;tedra Ing. Rodriguez, Juan Manuel </center>\n",
        "\n",
        "## <center>Trabajo Práctico 1</center>\n",
        "## <center>Checkpoint 1</center>"
      ],
      "metadata": {
        "id": "hUdBR0tPRNON"
      }
    },
    {
      "cell_type": "code",
      "source": [
        "from google.colab import drive\n",
        "drive.mount('/content/drive')\n"
      ],
      "metadata": {
        "colab": {
          "base_uri": "https://localhost:8080/"
        },
        "id": "l9lQMjVHpxJL",
        "outputId": "06fa1339-3233-478b-d9ad-6c2c3dd33f5b"
      },
      "execution_count": null,
      "outputs": [
        {
          "output_type": "stream",
          "name": "stdout",
          "text": [
            "Drive already mounted at /content/drive; to attempt to forcibly remount, call drive.mount(\"/content/drive\", force_remount=True).\n"
          ]
        }
      ]
    },
    {
      "cell_type": "code",
      "source": [
        "import pandas as pd\n",
        "\n",
        "archivo_train = pd.read_csv('/content/drive/MyDrive/TP1_7506/hotels_train.csv')\n"
      ],
      "metadata": {
        "id": "GSXdYZHirXfN"
      },
      "execution_count": null,
      "outputs": []
    },
    {
      "cell_type": "markdown",
      "source": [
        "a)En el dataset llamado hotels_test.csv hay 32 variables, de las cuales 9 son cualitativas, 4 son cuasicuantitativas u ordinales, 19 son cuantitativas discretas y 1 es cuantitativa continua\n",
        "\n",
        "# **Análisis de variables cuantitativas discretas:**"
      ],
      "metadata": {
        "id": "4oOtxtLhvKzQ"
      }
    },
    {
      "cell_type": "markdown",
      "source": [
        "**Lead_time:**"
      ],
      "metadata": {
        "id": "4i1BfdlTxStu"
      }
    },
    {
      "cell_type": "code",
      "source": [
        "lead_time_media = archivo_train[\"lead_time\"].mean()\n",
        "lead_time_mediana = archivo_train[\"lead_time\"].median()\n",
        "lead_time_moda = archivo_train[\"lead_time\"].mode()\n",
        "print(\"La media de la variable lead_time es\",lead_time_media)\n",
        "print(\"La mediana de la variable lead_time es\",lead_time_mediana)\n",
        "print(\"La moda de la variable lead_time es\",lead_time_moda)"
      ],
      "metadata": {
        "colab": {
          "base_uri": "https://localhost:8080/"
        },
        "id": "J1fTyamuvLcE",
        "outputId": "2327c39c-78ea-4879-ff6b-65d8e9d17dfd"
      },
      "execution_count": null,
      "outputs": [
        {
          "output_type": "stream",
          "name": "stdout",
          "text": [
            "La media de la variable lead_time es 112.24818697204141\n",
            "La mediana de la variable lead_time es 78.0\n",
            "La moda de la variable lead_time es 0    0\n",
            "Name: lead_time, dtype: int64\n"
          ]
        }
      ]
    },
    {
      "cell_type": "markdown",
      "source": [
        "**Arrival_date_year:**"
      ],
      "metadata": {
        "id": "Ze0TDPYExcVV"
      }
    },
    {
      "cell_type": "code",
      "source": [
        "arrival_date_year_media = archivo_train[\"arrival_date_year\"].mean()\n",
        "arrival_date_year_mediana = archivo_train[\"arrival_date_year\"].median()\n",
        "arrival_date_year_moda = archivo_train[\"arrival_date_year\"].mode()\n",
        "print(\"La media de la variable arrival_date_year es\",arrival_date_year_media)\n",
        "print(\"La mediana de la variable arrival_date_year es\",arrival_date_year_mediana)\n",
        "print(\"La moda de la variable arrival_date_year es\",arrival_date_year_moda)"
      ],
      "metadata": {
        "colab": {
          "base_uri": "https://localhost:8080/"
        },
        "id": "vH03iHJlxiWg",
        "outputId": "ddcbf37f-ad2d-405c-c002-8529c5fc2c5e"
      },
      "execution_count": null,
      "outputs": [
        {
          "output_type": "stream",
          "name": "stdout",
          "text": [
            "La media de la variable arrival_date_year es 2016.1547494064253\n",
            "La mediana de la variable arrival_date_year es 2016.0\n",
            "La moda de la variable arrival_date_year es 0    2016\n",
            "Name: arrival_date_year, dtype: int64\n"
          ]
        }
      ]
    },
    {
      "cell_type": "markdown",
      "source": [
        "**arrival_date_week_number:**"
      ],
      "metadata": {
        "id": "WwDAu_Imx9Of"
      }
    },
    {
      "cell_type": "code",
      "source": [
        "arrival_date_week_number_media = archivo_train[\"arrival_date_week_number\"].mean()\n",
        "arrival_date_week_number_mediana = archivo_train[\"arrival_date_week_number\"].median()\n",
        "arrival_date_week_number_moda = archivo_train[\"arrival_date_week_number\"].mode()\n",
        "print(\"La media de la variable arrival_date_week_number es\",arrival_date_week_number_media)\n",
        "print(\"La mediana de la variable arrival_date_week_number es\",arrival_date_week_number_mediana)\n",
        "print(\"La moda de la variable arrival_date_week_number es\",arrival_date_week_number_moda)"
      ],
      "metadata": {
        "colab": {
          "base_uri": "https://localhost:8080/"
        },
        "id": "OTrF9WT6x3YC",
        "outputId": "ea1ef57a-fa9f-4430-898a-dba0ae07cf0f"
      },
      "execution_count": null,
      "outputs": [
        {
          "output_type": "stream",
          "name": "stdout",
          "text": [
            "La media de la variable arrival_date_week_number es 27.21808020932599\n",
            "La mediana de la variable arrival_date_week_number es 28.0\n",
            "La moda de la variable arrival_date_week_number es 0    33\n",
            "Name: arrival_date_week_number, dtype: int64\n"
          ]
        }
      ]
    },
    {
      "cell_type": "markdown",
      "source": [
        "**arrival_date_day_of_month:** "
      ],
      "metadata": {
        "id": "EzAh6p7hyQfR"
      }
    },
    {
      "cell_type": "code",
      "source": [
        "arrival_date_day_of_month_media = archivo_train[\"arrival_date_day_of_month\"].mean()\n",
        "arrival_date_day_of_month_mediana = archivo_train[\"arrival_date_day_of_month\"].median()\n",
        "arrival_date_day_of_month_moda = archivo_train[\"arrival_date_day_of_month\"].mode()\n",
        "print(\"La media de la variable arrival_date_day_of_month es\",arrival_date_day_of_month_media)\n",
        "print(\"La mediana de la variable arrival_date_day_of_month es\",arrival_date_day_of_month_mediana)\n",
        "print(\"La moda de la variable arrival_date_day_of_month es\",arrival_date_day_of_month_moda)"
      ],
      "metadata": {
        "colab": {
          "base_uri": "https://localhost:8080/"
        },
        "id": "t7hCVwBXyTQ2",
        "outputId": "4b34db39-8ae4-48d0-dd32-e2b22a6782f2"
      },
      "execution_count": null,
      "outputs": [
        {
          "output_type": "stream",
          "name": "stdout",
          "text": [
            "La media de la variable arrival_date_day_of_month es 15.785812349587324\n",
            "La mediana de la variable arrival_date_day_of_month es 16.0\n",
            "La moda de la variable arrival_date_day_of_month es 0    17\n",
            "Name: arrival_date_day_of_month, dtype: int64\n"
          ]
        }
      ]
    },
    {
      "cell_type": "markdown",
      "source": [
        "**stays_in_weekend_nights**"
      ],
      "metadata": {
        "id": "UcGoBHOBy5nm"
      }
    },
    {
      "cell_type": "code",
      "source": [
        "stays_in_weekend_nights_media = archivo_train[\"stays_in_weekend_nights\"].mean()\n",
        "stays_in_weekend_nights_mediana = archivo_train[\"stays_in_weekend_nights\"].median()\n",
        "stays_in_weekend_nights_moda = archivo_train[\"stays_in_weekend_nights\"].mode()\n",
        "print(\"La media de la variable stays_in_weekend_nights es\",stays_in_weekend_nights_media)\n",
        "print(\"La mediana de la variable stays_in_weekend_nights es\",stays_in_weekend_nights_mediana)\n",
        "print(\"La moda de la variable stays_in_weekend_nights es\",stays_in_weekend_nights_moda)"
      ],
      "metadata": {
        "colab": {
          "base_uri": "https://localhost:8080/"
        },
        "id": "R-9mAdhozBjy",
        "outputId": "10a8318f-2348-456c-b764-1e3f77624d2e"
      },
      "execution_count": null,
      "outputs": [
        {
          "output_type": "stream",
          "name": "stdout",
          "text": [
            "La media de la variable stays_in_weekend_nights es 0.9241354804322194\n",
            "La mediana de la variable stays_in_weekend_nights es 1.0\n",
            "La moda de la variable stays_in_weekend_nights es 0    0\n",
            "Name: stays_in_weekend_nights, dtype: int64\n"
          ]
        }
      ]
    },
    {
      "cell_type": "markdown",
      "source": [
        "**stays_in_week_nights**"
      ],
      "metadata": {
        "id": "m4KblQcszat0"
      }
    },
    {
      "cell_type": "code",
      "source": [
        "stays_in_week_nights_media = archivo_train[\"stays_in_week_nights\"].mean()\n",
        "stays_in_week_nights_mediana = archivo_train[\"stays_in_week_nights\"].median()\n",
        "stays_in_week_nights_moda = archivo_train[\"stays_in_week_nights\"].mode()\n",
        "print(\"La media de la variable stays_in_week_nights es\",stays_in_week_nights_media)\n",
        "print(\"La mediana de la variable stays_in_week_nights es\",stays_in_week_nights_mediana)\n",
        "print(\"La moda de la variable stays_in_week_nights es\",stays_in_week_nights_moda)"
      ],
      "metadata": {
        "colab": {
          "base_uri": "https://localhost:8080/"
        },
        "id": "BbxlLpiIzeyo",
        "outputId": "db13181f-1520-46d5-e282-8e18c3dd22de"
      },
      "execution_count": null,
      "outputs": [
        {
          "output_type": "stream",
          "name": "stdout",
          "text": [
            "La media de la variable stays_in_week_nights es 2.5100544312179993\n",
            "La mediana de la variable stays_in_week_nights es 2.0\n",
            "La moda de la variable stays_in_week_nights es 0    2\n",
            "Name: stays_in_week_nights, dtype: int64\n"
          ]
        }
      ]
    },
    {
      "cell_type": "markdown",
      "source": [
        "**adults**"
      ],
      "metadata": {
        "id": "WqiEitufz7Nf"
      }
    },
    {
      "cell_type": "code",
      "source": [
        "adults_media = archivo_train[\"adults\"].mean()\n",
        "adults_mediana = archivo_train[\"adults\"].median()\n",
        "adults_moda = archivo_train[\"adults\"].mode()\n",
        "print(\"La media de la variable adults es\",adults_media)\n",
        "print(\"La mediana de la variable adults es\",adults_mediana)\n",
        "print(\"La moda de la variable adults es\",adults_moda)"
      ],
      "metadata": {
        "colab": {
          "base_uri": "https://localhost:8080/"
        },
        "id": "BufWwds_z_fZ",
        "outputId": "cff19573-72f5-4741-b3a2-5d4d0198d6a5"
      },
      "execution_count": null,
      "outputs": [
        {
          "output_type": "stream",
          "name": "stdout",
          "text": [
            "La media de la variable adults es 1.862791336229871\n",
            "La mediana de la variable adults es 2.0\n",
            "La moda de la variable adults es 0    2\n",
            "Name: adults, dtype: int64\n"
          ]
        }
      ]
    },
    {
      "cell_type": "markdown",
      "source": [
        "**children**"
      ],
      "metadata": {
        "id": "ZVOp4LAV0_DV"
      }
    },
    {
      "cell_type": "code",
      "source": [
        "children_media = archivo_train[\"children\"].mean()\n",
        "children_mediana = archivo_train[\"children\"].median()\n",
        "children_moda = archivo_train[\"children\"].mode()\n",
        "print(\"La media de la variable children es\",children_media)\n",
        "print(\"La mediana de la variable children es\",children_mediana)\n",
        "print(\"La moda de la variable children es\",children_moda)"
      ],
      "metadata": {
        "colab": {
          "base_uri": "https://localhost:8080/"
        },
        "id": "3PDKdDs11BZ3",
        "outputId": "aae963d3-5a0c-44b7-9130-c8dcf0a4d801"
      },
      "execution_count": null,
      "outputs": [
        {
          "output_type": "stream",
          "name": "stdout",
          "text": [
            "La media de la variable children es 0.10489589558868662\n",
            "La mediana de la variable children es 0.0\n",
            "La moda de la variable children es 0    0.0\n",
            "Name: children, dtype: float64\n"
          ]
        }
      ]
    },
    {
      "cell_type": "markdown",
      "source": [
        "**babies**"
      ],
      "metadata": {
        "id": "Q1j_FvEc1SPM"
      }
    },
    {
      "cell_type": "code",
      "source": [
        "babies_media = archivo_train[\"babies\"].mean()\n",
        "babies_mediana = archivo_train[\"babies\"].median()\n",
        "babies_moda = archivo_train[\"babies\"].mode()\n",
        "print(\"La media de la variable babies es\",babies_media)\n",
        "print(\"La mediana de la variable babies es\",babies_mediana)\n",
        "print(\"La moda de la variable babies es\",babies_moda)"
      ],
      "metadata": {
        "colab": {
          "base_uri": "https://localhost:8080/"
        },
        "id": "LE17UNT41Tbn",
        "outputId": "f92f8627-6952-41f1-bfa6-5236387a6a34"
      },
      "execution_count": null,
      "outputs": [
        {
          "output_type": "stream",
          "name": "stdout",
          "text": [
            "La media de la variable babies es 0.007155201653933746\n",
            "La mediana de la variable babies es 0.0\n",
            "La moda de la variable babies es 0    0\n",
            "Name: babies, dtype: int64\n"
          ]
        }
      ]
    },
    {
      "cell_type": "markdown",
      "source": [
        "**is_repeated_guest**"
      ],
      "metadata": {
        "id": "ih5vv84g2UQL"
      }
    },
    {
      "cell_type": "code",
      "source": [
        "is_repeated_guest_media = archivo_train[\"is_repeated_guest\"].mean()\n",
        "is_repeated_guest_mediana = archivo_train[\"is_repeated_guest\"].median()\n",
        "is_repeated_guest_moda = archivo_train[\"is_repeated_guest\"].mode()\n",
        "print(\"La media de la variable is_repeated_guest es\",is_repeated_guest_media)\n",
        "print(\"La mediana de la variable is_repeated_guest es\",is_repeated_guest_mediana)\n",
        "print(\"La moda de la variable is_repeated_guest es\",is_repeated_guest_moda)"
      ],
      "metadata": {
        "colab": {
          "base_uri": "https://localhost:8080/"
        },
        "id": "kHszeoOO2Wrm",
        "outputId": "df908de3-3155-48ef-c2f5-6480b08266b1"
      },
      "execution_count": null,
      "outputs": [
        {
          "output_type": "stream",
          "name": "stdout",
          "text": [
            "La media de la variable is_repeated_guest es 0.027990890443041042\n",
            "La mediana de la variable is_repeated_guest es 0.0\n",
            "La moda de la variable is_repeated_guest es 0    0\n",
            "Name: is_repeated_guest, dtype: int64\n"
          ]
        }
      ]
    },
    {
      "cell_type": "markdown",
      "source": [
        "**previous_cancellations**"
      ],
      "metadata": {
        "id": "8GwQO85c2fXm"
      }
    },
    {
      "cell_type": "code",
      "source": [
        "previous_cancellations_media = archivo_train[\"previous_cancellations\"].mean()\n",
        "previous_cancellations_mediana = archivo_train[\"previous_cancellations\"].median()\n",
        "previous_cancellations_moda = archivo_train[\"previous_cancellations\"].mode()\n",
        "print(\"La media de la variable previous_cancellations es\",previous_cancellations_media)\n",
        "print(\"La mediana de la variable previous_cancellations es\",previous_cancellations_mediana)\n",
        "print(\"La moda de la variable previous_cancellations es\",previous_cancellations_moda)"
      ],
      "metadata": {
        "colab": {
          "base_uri": "https://localhost:8080/"
        },
        "id": "UyCDUxu42gxP",
        "outputId": "3e0b445b-e0c5-4267-8e9d-c82a8ec224cb"
      },
      "execution_count": null,
      "outputs": [
        {
          "output_type": "stream",
          "name": "stdout",
          "text": [
            "La media de la variable previous_cancellations es 0.10499340493687583\n",
            "La mediana de la variable previous_cancellations es 0.0\n",
            "La moda de la variable previous_cancellations es 0    0\n",
            "Name: previous_cancellations, dtype: int64\n"
          ]
        }
      ]
    },
    {
      "cell_type": "markdown",
      "source": [
        "**previous_bookings_not_canceled**"
      ],
      "metadata": {
        "id": "Cq3Pokbp2rHJ"
      }
    },
    {
      "cell_type": "code",
      "source": [
        "previous_bookings_not_canceled_media = archivo_train[\"previous_bookings_not_canceled\"].mean()\n",
        "previous_bookings_not_canceled_mediana = archivo_train[\"previous_bookings_not_canceled\"].median()\n",
        "previous_bookings_not_canceled_moda = archivo_train[\"previous_bookings_not_canceled\"].mode()\n",
        "print(\"La media de la variable previous_bookings_not_canceled es\",previous_bookings_not_canceled_media)\n",
        "print(\"La mediana de la variable previous_bookings_not_canceled es\",previous_bookings_not_canceled_mediana)\n",
        "print(\"La moda de la variable previous_bookings_not_canceled es\",previous_bookings_not_canceled_moda)"
      ],
      "metadata": {
        "colab": {
          "base_uri": "https://localhost:8080/"
        },
        "id": "YogFZ-pt2sK0",
        "outputId": "db120214-da6f-454a-f7a3-1fa2f8785dd9"
      },
      "execution_count": null,
      "outputs": [
        {
          "output_type": "stream",
          "name": "stdout",
          "text": [
            "La media de la variable previous_bookings_not_canceled es 0.11542002487361297\n",
            "La mediana de la variable previous_bookings_not_canceled es 0.0\n",
            "La moda de la variable previous_bookings_not_canceled es 0    0\n",
            "Name: previous_bookings_not_canceled, dtype: int64\n"
          ]
        }
      ]
    },
    {
      "cell_type": "markdown",
      "source": [
        "**booking_changes**"
      ],
      "metadata": {
        "id": "JYs0_S_h22-U"
      }
    },
    {
      "cell_type": "code",
      "source": [
        "booking_changes_media = archivo_train[\"booking_changes\"].mean()\n",
        "booking_changes_mediana = archivo_train[\"booking_changes\"].median()\n",
        "booking_changes_moda = archivo_train[\"booking_changes\"].mode()\n",
        "print(\"La media de la variable booking_changes es\",booking_changes_media)\n",
        "print(\"La mediana de la variable booking_changes es\",booking_changes_mediana)\n",
        "print(\"La moda de la variable booking_changes es\",booking_changes_moda)"
      ],
      "metadata": {
        "colab": {
          "base_uri": "https://localhost:8080/"
        },
        "id": "DyI7QvUh237w",
        "outputId": "6b0da6be-b912-40b9-b517-cac43a5fe657"
      },
      "execution_count": null,
      "outputs": [
        {
          "output_type": "stream",
          "name": "stdout",
          "text": [
            "La media de la variable booking_changes es 0.19595238479802304\n",
            "La mediana de la variable booking_changes es 0.0\n",
            "La moda de la variable booking_changes es 0    0\n",
            "Name: booking_changes, dtype: int64\n"
          ]
        }
      ]
    },
    {
      "cell_type": "markdown",
      "source": [
        "**agent**"
      ],
      "metadata": {
        "id": "yoosvWQU3IVb"
      }
    },
    {
      "cell_type": "code",
      "source": [
        "agent_media = archivo_train[\"agent\"].mean()\n",
        "agent_mediana = archivo_train[\"agent\"].median()\n",
        "agent_moda = archivo_train[\"agent\"].mode()\n",
        "print(\"La media de la variable agent es\",agent_media)\n",
        "print(\"La mediana de la variable agent es\",agent_mediana)\n",
        "print(\"La moda de la variable agent es\",agent_moda)"
      ],
      "metadata": {
        "colab": {
          "base_uri": "https://localhost:8080/"
        },
        "id": "6XWEF2N23JOE",
        "outputId": "de7335cb-ef66-412c-d16e-5d35700af803"
      },
      "execution_count": null,
      "outputs": [
        {
          "output_type": "stream",
          "name": "stdout",
          "text": [
            "La media de la variable agent es 84.54101031042333\n",
            "La mediana de la variable agent es 12.0\n",
            "La moda de la variable agent es 0    9.0\n",
            "Name: agent, dtype: float64\n"
          ]
        }
      ]
    },
    {
      "cell_type": "markdown",
      "source": [
        "**company**"
      ],
      "metadata": {
        "id": "_QvZwDwy3Q6P"
      }
    },
    {
      "cell_type": "code",
      "source": [
        "company_media = archivo_train[\"company\"].mean()\n",
        "company_mediana = archivo_train[\"company\"].median()\n",
        "company_moda = archivo_train[\"company\"].mode()\n",
        "print(\"La media de la variable company es\",company_media)\n",
        "print(\"La mediana de la variable company es\",company_mediana)\n",
        "print(\"La moda de la variable company es\",company_moda)"
      ],
      "metadata": {
        "colab": {
          "base_uri": "https://localhost:8080/"
        },
        "id": "IkGbGB0K3TOe",
        "outputId": "09f2c483-7524-4893-897d-9ed7d4012f60"
      },
      "execution_count": null,
      "outputs": [
        {
          "output_type": "stream",
          "name": "stdout",
          "text": [
            "La media de la variable company es 188.53934010152284\n",
            "La mediana de la variable company es 179.0\n",
            "La moda de la variable company es 0    40.0\n",
            "Name: company, dtype: float64\n"
          ]
        }
      ]
    },
    {
      "cell_type": "markdown",
      "source": [
        "**days_in_waiting_list**"
      ],
      "metadata": {
        "id": "_UfGVnD63Z3K"
      }
    },
    {
      "cell_type": "code",
      "source": [
        "days_in_waiting_list_media = archivo_train[\"days_in_waiting_list\"].mean()\n",
        "days_in_waiting_list_mediana = archivo_train[\"days_in_waiting_list\"].median()\n",
        "days_in_waiting_list_moda = archivo_train[\"days_in_waiting_list\"].mode()\n",
        "print(\"La media de la variable days_in_waiting_list es\",days_in_waiting_list_media)\n",
        "print(\"La mediana de la variable days_in_waiting_list es\",days_in_waiting_list_mediana)\n",
        "print(\"La moda de la variable days_in_waiting_list es\",days_in_waiting_list_moda)"
      ],
      "metadata": {
        "colab": {
          "base_uri": "https://localhost:8080/"
        },
        "id": "SbOp7Xf13cAG",
        "outputId": "18a0435b-aaae-424b-8d1a-8923ab514d92"
      },
      "execution_count": null,
      "outputs": [
        {
          "output_type": "stream",
          "name": "stdout",
          "text": [
            "La media de la variable days_in_waiting_list es 2.6389772745626927\n",
            "La mediana de la variable days_in_waiting_list es 0.0\n",
            "La moda de la variable days_in_waiting_list es 0    0\n",
            "Name: days_in_waiting_list, dtype: int64\n"
          ]
        }
      ]
    },
    {
      "cell_type": "markdown",
      "source": [
        "**required_car_parking_spaces**"
      ],
      "metadata": {
        "id": "X11Qb2Qe35Q3"
      }
    },
    {
      "cell_type": "code",
      "source": [
        "required_car_parking_spaces_media = archivo_train[\"required_car_parking_spaces\"].mean()\n",
        "required_car_parking_spaces_mediana = archivo_train[\"required_car_parking_spaces\"].median()\n",
        "required_car_parking_spaces_moda = archivo_train[\"required_car_parking_spaces\"].mode()\n",
        "print(\"La media de la variable required_car_parking_spaces es\",required_car_parking_spaces_media)\n",
        "print(\"La mediana de la variable required_car_parking_spaces es\",required_car_parking_spaces_mediana)\n",
        "print(\"La moda de la variable required_car_parking_spaces es\",required_car_parking_spaces_moda)"
      ],
      "metadata": {
        "colab": {
          "base_uri": "https://localhost:8080/"
        },
        "id": "6ACujgPM353d",
        "outputId": "0b35ca17-9c40-4a32-e956-6a08308d7aad"
      },
      "execution_count": null,
      "outputs": [
        {
          "output_type": "stream",
          "name": "stdout",
          "text": [
            "La media de la variable required_car_parking_spaces es 0.04995719800365028\n",
            "La mediana de la variable required_car_parking_spaces es 0.0\n",
            "La moda de la variable required_car_parking_spaces es 0    0\n",
            "Name: required_car_parking_spaces, dtype: int64\n"
          ]
        }
      ]
    },
    {
      "cell_type": "markdown",
      "source": [
        "**total_of_special_requests**"
      ],
      "metadata": {
        "id": "kWaFiELq4DVa"
      }
    },
    {
      "cell_type": "code",
      "source": [
        "total_of_special_requests_spaces_media = archivo_train[\"total_of_special_requests\"].mean()\n",
        "total_of_special_requests_mediana = archivo_train[\"total_of_special_requests\"].median()\n",
        "total_of_special_requests_moda = archivo_train[\"total_of_special_requests\"].mode()\n",
        "print(\"La media de la variable total_of_special_requests es\",total_of_special_requests_spaces_media)\n",
        "print(\"La mediana de la variable total_of_special_requests es\",total_of_special_requests_mediana)\n",
        "print(\"La moda de la variable total_of_special_requests es\",total_of_special_requests_moda)"
      ],
      "metadata": {
        "colab": {
          "base_uri": "https://localhost:8080/"
        },
        "id": "sEPm34W44EQ8",
        "outputId": "be2cf735-0f48-4b8c-c6ba-724bd24cae55"
      },
      "execution_count": null,
      "outputs": [
        {
          "output_type": "stream",
          "name": "stdout",
          "text": [
            "La media de la variable total_of_special_requests es 0.5237026149597015\n",
            "La mediana de la variable total_of_special_requests es 0.0\n",
            "La moda de la variable total_of_special_requests es 0    0\n",
            "Name: total_of_special_requests, dtype: int64\n"
          ]
        }
      ]
    },
    {
      "cell_type": "markdown",
      "source": [
        "**is_canceled**"
      ],
      "metadata": {
        "id": "be39lLwt9NET"
      }
    },
    {
      "cell_type": "code",
      "source": [
        "is_canceled_media = archivo_train[\"is_canceled\"].mean()\n",
        "is_canceled_mediana = archivo_train[\"is_canceled\"].median()\n",
        "is_canceled_moda = archivo_train[\"is_canceled\"].mode()\n",
        "print(\"La media de la variable is_canceled es\",is_canceled_media)\n",
        "print(\"La mediana de la variable is_canceled es\",is_canceled_mediana)\n",
        "print(\"La moda de la variable is_canceled es\",is_canceled_moda)"
      ],
      "metadata": {
        "colab": {
          "base_uri": "https://localhost:8080/"
        },
        "id": "IPxDRWG19R8c",
        "outputId": "1041e3d1-1c40-4cd2-ff47-920cb39c23d2"
      },
      "execution_count": null,
      "outputs": [
        {
          "output_type": "stream",
          "name": "stdout",
          "text": [
            "La media de la variable is_canceled es 0.499749648700596\n",
            "La mediana de la variable is_canceled es 0.0\n",
            "La moda de la variable is_canceled es 0    0\n",
            "Name: is_canceled, dtype: int64\n"
          ]
        }
      ]
    },
    {
      "cell_type": "markdown",
      "source": [
        "# Análisis de variables cuantitativas continuas\n"
      ],
      "metadata": {
        "id": "uwk85zk74xWH"
      }
    },
    {
      "cell_type": "markdown",
      "source": [
        "**adr**"
      ],
      "metadata": {
        "id": "RnvBaSNi42lS"
      }
    },
    {
      "cell_type": "code",
      "source": [
        "adr_media = archivo_train[\"adr\"].mean()\n",
        "adr_mediana = archivo_train[\"adr\"].median()\n",
        "adr_moda = archivo_train[\"adr\"].mode()\n",
        "print(\"La media de la variable adr es\",adr_media)\n",
        "print(\"La mediana de la variable adr es\",adr_mediana)\n",
        "print(\"La moda de la variable adr es\",adr_moda)"
      ],
      "metadata": {
        "colab": {
          "base_uri": "https://localhost:8080/"
        },
        "id": "hI1rNq8z47Vf",
        "outputId": "598cf3f1-c269-4c9a-eb3c-6ee43720442a"
      },
      "execution_count": null,
      "outputs": [
        {
          "output_type": "stream",
          "name": "stdout",
          "text": [
            "La media de la variable adr es 102.38377303635745\n",
            "La mediana de la variable adr es 95.0\n",
            "La moda de la variable adr es 0    62.0\n",
            "Name: adr, dtype: float64\n"
          ]
        }
      ]
    },
    {
      "cell_type": "markdown",
      "source": [
        "# Análisis de variables cualitativas"
      ],
      "metadata": {
        "id": "r4uwqJXb8aSe"
      }
    },
    {
      "cell_type": "markdown",
      "source": [
        "**hotel**"
      ],
      "metadata": {
        "id": "s9HiRMYC9d2f"
      }
    },
    {
      "cell_type": "code",
      "source": [
        "hotel_valores = archivo_train[\"hotel\"].value_counts()\n",
        "print(\"Los posibles valores y la frecuencia con la que aparecen son \\n\",hotel_valores)\n"
      ],
      "metadata": {
        "colab": {
          "base_uri": "https://localhost:8080/"
        },
        "id": "FCDIUjCX9jLp",
        "outputId": "809e658e-db4d-4999-cac7-ae53e284f9c8"
      },
      "execution_count": null,
      "outputs": [
        {
          "output_type": "stream",
          "name": "stdout",
          "text": [
            "Los posibles valores y la frecuencia con la que aparecen son \n",
            " City Hotel      42129\n",
            "Resort Hotel    19784\n",
            "Name: hotel, dtype: int64\n"
          ]
        }
      ]
    },
    {
      "cell_type": "markdown",
      "source": [
        "**meal**"
      ],
      "metadata": {
        "id": "GvcxJhycB9E3"
      }
    },
    {
      "cell_type": "code",
      "source": [
        "meal_valores = archivo_train[\"meal\"].value_counts()\n",
        "print(\"Los posibles valores y la frecuencia con la que aparecen son \\n\",meal_valores)"
      ],
      "metadata": {
        "colab": {
          "base_uri": "https://localhost:8080/"
        },
        "id": "K1X4vZx6CBVw",
        "outputId": "545c2f9d-aaa8-4c6d-e399-9e5344b846e2"
      },
      "execution_count": null,
      "outputs": [
        {
          "output_type": "stream",
          "name": "stdout",
          "text": [
            "Los posibles valores y la frecuencia con la que aparecen son \n",
            " BB           47837\n",
            "HB            7452\n",
            "SC            5556\n",
            "Undefined      591\n",
            "FB             477\n",
            "Name: meal, dtype: int64\n"
          ]
        }
      ]
    },
    {
      "cell_type": "markdown",
      "source": [
        "**country**"
      ],
      "metadata": {
        "id": "tL66cZ2qCIm0"
      }
    },
    {
      "cell_type": "code",
      "source": [
        "country_valores = archivo_train[\"country\"].value_counts()\n",
        "print(\"Los posibles valores y la frecuencia con la que aparecen son \\n\",country_valores)"
      ],
      "metadata": {
        "colab": {
          "base_uri": "https://localhost:8080/"
        },
        "id": "oSXLK7eJCKR2",
        "outputId": "ead2abb7-9d1b-436c-c9e2-e08d83f1231d"
      },
      "execution_count": null,
      "outputs": [
        {
          "output_type": "stream",
          "name": "stdout",
          "text": [
            "Los posibles valores y la frecuencia con la que aparecen son \n",
            " PRT    27950\n",
            "GBR     5733\n",
            "FRA     4809\n",
            "ESP     4210\n",
            "DEU     3312\n",
            "       ...  \n",
            "HND        1\n",
            "FJI        1\n",
            "LIE        1\n",
            "ATA        1\n",
            "RWA        1\n",
            "Name: country, Length: 149, dtype: int64\n"
          ]
        }
      ]
    },
    {
      "cell_type": "markdown",
      "source": [
        "**market_segment**"
      ],
      "metadata": {
        "id": "4VJ6cVhQCcSd"
      }
    },
    {
      "cell_type": "code",
      "source": [
        "market_segment_valores = archivo_train[\"market_segment\"].value_counts()\n",
        "print(\"Los posibles valores y la frecuencia con la que aparecen son \\n\",market_segment_valores)"
      ],
      "metadata": {
        "colab": {
          "base_uri": "https://localhost:8080/"
        },
        "id": "2OzqVZFkCfN1",
        "outputId": "b9f60ec7-20aa-4883-fb51-d90e0f5bbb82"
      },
      "execution_count": null,
      "outputs": [
        {
          "output_type": "stream",
          "name": "stdout",
          "text": [
            "Los posibles valores y la frecuencia con la que aparecen son \n",
            " Online TA        29269\n",
            "Offline TA/TO    12384\n",
            "Groups           11545\n",
            "Direct            5757\n",
            "Corporate         2484\n",
            "Complementary      359\n",
            "Aviation           113\n",
            "Undefined            2\n",
            "Name: market_segment, dtype: int64\n"
          ]
        }
      ]
    },
    {
      "cell_type": "markdown",
      "source": [
        "**distribution_channel**"
      ],
      "metadata": {
        "id": "YV4SrTOLCnvl"
      }
    },
    {
      "cell_type": "code",
      "source": [
        "distribution_channel_valores = archivo_train[\"distribution_channel\"].value_counts()\n",
        "print(\"Los posibles valores y la frecuencia con la que aparecen son \\n\",distribution_channel_valores)"
      ],
      "metadata": {
        "colab": {
          "base_uri": "https://localhost:8080/"
        },
        "id": "FJEmIKFfCsEn",
        "outputId": "02728d27-30f4-481c-c1bd-ac89075c651b"
      },
      "execution_count": null,
      "outputs": [
        {
          "output_type": "stream",
          "name": "stdout",
          "text": [
            "Los posibles valores y la frecuencia con la que aparecen son \n",
            " TA/TO        51849\n",
            "Direct        6799\n",
            "Corporate     3172\n",
            "GDS             89\n",
            "Undefined        4\n",
            "Name: distribution_channel, dtype: int64\n"
          ]
        }
      ]
    },
    {
      "cell_type": "markdown",
      "source": [
        "**deposit_type**"
      ],
      "metadata": {
        "id": "Ti0bhJ7FCyVI"
      }
    },
    {
      "cell_type": "code",
      "source": [
        "deposit_type_valores = archivo_train[\"deposit_type\"].value_counts()\n",
        "print(\"Los posibles valores y la frecuencia con la que aparecen son \\n\",deposit_type_valores)"
      ],
      "metadata": {
        "id": "ReiApqF4C3bb"
      },
      "execution_count": null,
      "outputs": []
    },
    {
      "cell_type": "markdown",
      "source": [
        "**customer_type**"
      ],
      "metadata": {
        "id": "OU7XiSe9DBXH"
      }
    },
    {
      "cell_type": "code",
      "source": [
        "customer_type_valores = archivo_train[\"customer_type\"].value_counts()\n",
        "print(\"Los posibles valores y la frecuencia con la que aparecen son \\n\",customer_type_valores)"
      ],
      "metadata": {
        "id": "YzVIEKUmDC5U"
      },
      "execution_count": null,
      "outputs": []
    },
    {
      "cell_type": "markdown",
      "source": [
        "**reservation_status**"
      ],
      "metadata": {
        "id": "PJGq3c-hDG2L"
      }
    },
    {
      "cell_type": "code",
      "source": [
        "reservation_status_valores = archivo_train[\"reservation_status\"].value_counts()\n",
        "print(\"Los posibles valores y la frecuencia con la que aparecen son \\n\",reservation_status_valores)"
      ],
      "metadata": {
        "colab": {
          "base_uri": "https://localhost:8080/"
        },
        "id": "mYbm-vAwDOek",
        "outputId": "967d8e62-883d-4a82-8afc-583fbdd91836"
      },
      "execution_count": null,
      "outputs": [
        {
          "output_type": "stream",
          "name": "stdout",
          "text": [
            "Los posibles valores y la frecuencia con la que aparecen son \n",
            " Check-Out    30972\n",
            "Canceled     30086\n",
            "No-Show        855\n",
            "Name: reservation_status, dtype: int64\n"
          ]
        }
      ]
    },
    {
      "cell_type": "markdown",
      "source": [
        "**id**"
      ],
      "metadata": {
        "id": "lcCXLn1gFfiX"
      }
    },
    {
      "cell_type": "code",
      "source": [
        "id_valores = archivo_train[\"id\"].value_counts()\n",
        "print(\"Los posibles valores y la frecuencia con la que aparecen son \\n\",id_valores)"
      ],
      "metadata": {
        "colab": {
          "base_uri": "https://localhost:8080/"
        },
        "id": "p4-zq3RTFhSj",
        "outputId": "0c1e8dba-1a41-416e-b010-34b7f75cf2b7"
      },
      "execution_count": null,
      "outputs": [
        {
          "output_type": "stream",
          "name": "stdout",
          "text": [
            "Los posibles valores y la frecuencia con la que aparecen son \n",
            " 7aa4cc6b-b92c-4061-b21d-4f9e0cac4689    1\n",
            "4782fe38-2edf-48df-8a73-ff1df6150941    1\n",
            "63068df5-6476-4d01-aa22-940eda3382eb    1\n",
            "b442e553-c108-440f-8bf4-3a79d45e716c    1\n",
            "c8e19318-10f5-4f61-a637-99ee6ae623c3    1\n",
            "                                       ..\n",
            "136f0dc4-424c-446d-9cf7-229ce4efbf0b    1\n",
            "4dda8d58-4dbb-4bcf-9805-089a77c67553    1\n",
            "2874695d-1cd4-4087-97e5-f235366fa774    1\n",
            "2647c330-f992-4367-a655-670c8af94c65    1\n",
            "7137e599-4442-41fb-b147-4aba9f344e38    1\n",
            "Name: id, Length: 61913, dtype: int64\n"
          ]
        }
      ]
    },
    {
      "cell_type": "markdown",
      "source": [
        "# Análisis de variables cuasicuantitativas u ordinales:"
      ],
      "metadata": {
        "id": "mvIcck8PFpto"
      }
    },
    {
      "cell_type": "markdown",
      "source": [
        "**arrival_date_month**"
      ],
      "metadata": {
        "id": "i2PHESvWF5ds"
      }
    },
    {
      "cell_type": "code",
      "source": [
        "arrival_date_month_valores = archivo_train[\"arrival_date_month\"].value_counts()\n",
        "print(\"Los posibles valores y la frecuencia con la que aparecen son \\n\",arrival_date_month_valores)"
      ],
      "metadata": {
        "colab": {
          "base_uri": "https://localhost:8080/"
        },
        "id": "vM0oKWLWF1HY",
        "outputId": "a665477b-e1f4-4976-9ad8-cada286f8b29"
      },
      "execution_count": null,
      "outputs": [
        {
          "output_type": "stream",
          "name": "stdout",
          "text": [
            "Los posibles valores y la frecuencia con la que aparecen son \n",
            " August       7176\n",
            "July         6524\n",
            "May          6159\n",
            "April        5878\n",
            "October      5863\n",
            "June         5772\n",
            "September    5619\n",
            "March        4899\n",
            "February     4125\n",
            "December     3493\n",
            "November     3404\n",
            "January      3001\n",
            "Name: arrival_date_month, dtype: int64\n"
          ]
        }
      ]
    },
    {
      "cell_type": "markdown",
      "source": [
        "**reserved_room_type**"
      ],
      "metadata": {
        "id": "ci9BsyhgGBFq"
      }
    },
    {
      "cell_type": "code",
      "source": [
        "reserved_room_type_valores = archivo_train[\"reserved_room_type\"].value_counts()\n",
        "print(\"Los posibles valores y la frecuencia con la que aparecen son \\n\",reserved_room_type_valores)"
      ],
      "metadata": {
        "colab": {
          "base_uri": "https://localhost:8080/"
        },
        "id": "WmCyUM9GGceA",
        "outputId": "8f920654-dbcb-4c1b-b9c8-55e52e0ca23b"
      },
      "execution_count": null,
      "outputs": [
        {
          "output_type": "stream",
          "name": "stdout",
          "text": [
            "Los posibles valores y la frecuencia con la que aparecen son \n",
            " A    45134\n",
            "D     9585\n",
            "E     3249\n",
            "F     1451\n",
            "G     1090\n",
            "B      580\n",
            "C      482\n",
            "H      334\n",
            "P        7\n",
            "L        1\n",
            "Name: reserved_room_type, dtype: int64\n"
          ]
        }
      ]
    },
    {
      "cell_type": "markdown",
      "source": [
        "**assigned_room_type**"
      ],
      "metadata": {
        "id": "3mckVtpDGhXH"
      }
    },
    {
      "cell_type": "code",
      "source": [
        "assigned_room_type_valores = archivo_train[\"assigned_room_type\"].value_counts()\n",
        "print(\"Los posibles valores y la frecuencia con la que aparecen son \\n\",assigned_room_type_valores)"
      ],
      "metadata": {
        "colab": {
          "base_uri": "https://localhost:8080/"
        },
        "id": "6QTi3g5XGjOu",
        "outputId": "5cc85da4-3c54-4155-a174-e2947a54b63e"
      },
      "execution_count": null,
      "outputs": [
        {
          "output_type": "stream",
          "name": "stdout",
          "text": [
            "Los posibles valores y la frecuencia con la que aparecen son \n",
            " A    40007\n",
            "D    12190\n",
            "E     3779\n",
            "F     1821\n",
            "G     1277\n",
            "C     1127\n",
            "B     1056\n",
            "H      384\n",
            "I      145\n",
            "K      119\n",
            "P        7\n",
            "L        1\n",
            "Name: assigned_room_type, dtype: int64\n"
          ]
        }
      ]
    },
    {
      "cell_type": "markdown",
      "source": [
        "**reservation_status_date**"
      ],
      "metadata": {
        "id": "uI3MGhJGGvJL"
      }
    },
    {
      "cell_type": "code",
      "source": [
        "reservation_status_date_valores = archivo_train[\"reservation_status_date\"].value_counts()\n",
        "print(\"Los posibles valores y la frecuencia con la que aparecen son \\n\",reservation_status_date_valores)"
      ],
      "metadata": {
        "colab": {
          "base_uri": "https://localhost:8080/"
        },
        "id": "FJDcMu26Gv-A",
        "outputId": "18e68eec-6de8-4aad-944c-9c1448529a6a"
      },
      "execution_count": null,
      "outputs": [
        {
          "output_type": "stream",
          "name": "stdout",
          "text": [
            "Los posibles valores y la frecuencia con la que aparecen son \n",
            " 2015-10-21    1013\n",
            "2015-07-06     549\n",
            "2015-01-01     540\n",
            "2016-11-25     526\n",
            "2016-01-18     431\n",
            "              ... \n",
            "2015-05-08       1\n",
            "2015-03-12       1\n",
            "2015-02-12       1\n",
            "2015-01-28       1\n",
            "2015-01-29       1\n",
            "Name: reservation_status_date, Length: 915, dtype: int64\n"
          ]
        }
      ]
    },
    {
      "cell_type": "markdown",
      "source": [
        "# Análisis gráfico de las distribuciones\n"
      ],
      "metadata": {
        "id": "J21cdBMaHrAf"
      }
    }
  ]
}